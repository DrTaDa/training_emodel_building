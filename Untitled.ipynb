{
 "cells": [
  {
   "cell_type": "markdown",
   "id": "7c5bc7b9",
   "metadata": {},
   "source": [
    "Steps:\n",
    "- Creating the virtual environnement (and using it in jupyter notebook)\n",
    "- Data download\n",
    "- Data exploration using BluePyEfe 2\n",
    "- E-feature extraction using BluePyEfe 2\n",
    "- Creation of a cell model\n",
    "- Optimisation of the parameters of the e-model\n",
    "- Export e-model as hoc (and open it in Neuron GUI)"
   ]
  },
  {
   "cell_type": "code",
   "execution_count": null,
   "id": "baf4b557",
   "metadata": {},
   "outputs": [],
   "source": []
  }
 ],
 "metadata": {
  "kernelspec": {
   "display_name": "Python 3 (ipykernel)",
   "language": "python",
   "name": "python3"
  },
  "language_info": {
   "codemirror_mode": {
    "name": "ipython",
    "version": 3
   },
   "file_extension": ".py",
   "mimetype": "text/x-python",
   "name": "python",
   "nbconvert_exporter": "python",
   "pygments_lexer": "ipython3",
   "version": "3.9.7"
  }
 },
 "nbformat": 4,
 "nbformat_minor": 5
}
